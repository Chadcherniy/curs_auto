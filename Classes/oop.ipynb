{
 "cells": [
  {
   "cell_type": "markdown",
   "id": "bae74ac7",
   "metadata": {},
   "source": [
    "Принципы ООП (OOP)\n",
    " - инкапсуляция,\n",
    " - наследование\n",
    " - полиморфизм"
   ]
  },
  {
   "cell_type": "markdown",
   "id": "6f1ab480",
   "metadata": {},
   "source": [
    "- Инкапсуляция: \n",
    "Все данные объекта должны храниться в объекте. Никто не может изменить данные без его ведома. \n"
   ]
  },
  {
   "cell_type": "markdown",
   "id": "0b74e59d",
   "metadata": {},
   "source": [
    "- Наследование:\n",
    "Объекты и их типы организуют иерархию типов. Дочерние типы наследуют свою функциональность от родительскоего класса, расширяя и дополняя ее"
   ]
  },
  {
   "cell_type": "markdown",
   "id": "42d26100",
   "metadata": {},
   "source": [
    "- Полиморфизм: Способность классов менять свое поведение в зависимости от типов операций и операндов. Полиморфизм в программировании реализуется через перегрузку метода, либо через его переопределение."
   ]
  },
  {
   "cell_type": "code",
   "execution_count": 13,
   "id": "44553f10",
   "metadata": {},
   "outputs": [
    {
     "data": {
      "text/plain": [
       "{'country': 'Greece', 'avg_temp': 28}"
      ]
     },
     "execution_count": 13,
     "metadata": {},
     "output_type": "execute_result"
    }
   ],
   "source": [
    "# data1.txt\n",
    "{\"country\": \"Turkey\", \"avg_temp\": 30}\n",
    "# data2.txt\n",
    "{\"country\": \"Greece\", \"avg_temp\": 28}"
   ]
  },
  {
   "cell_type": "code",
   "execution_count": 3,
   "id": "fd80b7c1",
   "metadata": {},
   "outputs": [
    {
     "name": "stdout",
     "output_type": "stream",
     "text": [
      "Turkey\n",
      "28\n"
     ]
    }
   ],
   "source": [
    "import json\n",
    "\n",
    "def read_file(filename):\n",
    "\n",
    "    file_data = open(filename, 'r', encoding='utf-8')\n",
    "    ''' \n",
    "    открыть файл (обычно весь путь до него указывается, \n",
    "    но если файл лежит в рабочем файле, то можно и не указывать). \n",
    "    А воторой аргумент означает в каком виде мы его указываем (формат чтения, просмотра и т.д.)\n",
    "    '''\n",
    "    # data = file_data.read() - чтение файла\n",
    "    data = json.load(file_data) # сразу после открытия файла преобразуем в джсон формат\n",
    "    # load - проевратить содержимое файла в питоновский словарь\n",
    "    # loads - превращение из текста в питоновский словарь\n",
    "    file_data.close()\n",
    "    return data\n",
    "data1 = read_file('data1.txt')\n",
    "data2 = read_file('data2.txt')\n",
    "\n",
    "print(data1['Country'])\n",
    "print(data2['avg_temp'])\n",
    "\n"
   ]
  },
  {
   "cell_type": "code",
   "execution_count": null,
   "id": "8519d808",
   "metadata": {},
   "outputs": [],
   "source": [
    "class CountryData:\n",
    "    def __init__(self, filename):\n",
    "        self.filename = filename\n",
    "        self.__data = self.read_file() # начало через \"__\" мы говорим, что данные приватны, начало через \"_\" - данные защищены.\n",
    "        self.country = self.data['Country']\n",
    "        self.avg_temp = self.data['avg_temp'] \n",
    "        self.comfort = self.is_comfort()\n",
    "\n",
    "    @property #декоратор открывающий доступ к приватным или защищенным файлам\n",
    "    def data(self):\n",
    "        return self.__data \n",
    "    # @data.setter\n",
    "    # def data(self):\n",
    "    #     self._data\n",
    "    #  - указывает нам на до, что мы можем изменять файл, только после написания данной функции\n",
    "\n",
    "    def read_file(self):\n",
    "        file_data = open(self.filename, 'r', encoding='utf-8')\n",
    "        data = json.load(file_data) \n",
    "        file_data.close()\n",
    "        return data\n",
    "    \n",
    "    def is_comfort(self):\n",
    "        return self.avg_temp > 25\n",
    "    "
   ]
  },
  {
   "cell_type": "code",
   "execution_count": 12,
   "id": "0b950c01",
   "metadata": {},
   "outputs": [
    {
     "name": "stdout",
     "output_type": "stream",
     "text": [
      "{'Country': 'Turkey', 'avg_temp': 30}\n",
      "Turkey\n",
      "30\n",
      "{'Country': 'Greece', 'avg_temp': 28}\n",
      "True\n"
     ]
    }
   ],
   "source": [
    "data1 = CountryData('data1.txt')\n",
    "print(data1.data)\n",
    "print(data1.country)\n",
    "print(data1.avg_temp)\n",
    "data2 = CountryData('data2.txt')\n",
    "print(data2.data)\n",
    "print(data2.comfort)\n"
   ]
  },
  {
   "cell_type": "code",
   "execution_count": null,
   "id": "41ded1ef",
   "metadata": {},
   "outputs": [
    {
     "data": {
      "text/plain": [
       "{'Country': 'Poland', 'avg_temp': 15, 'min_temp': 2}"
      ]
     },
     "execution_count": 44,
     "metadata": {},
     "output_type": "execute_result"
    }
   ],
   "source": [
    "# data3.txt\n",
    "{\"Country\": \"Poland\", \"avg_temp\": 15, \"min_temp\": 2}"
   ]
  },
  {
   "cell_type": "code",
   "execution_count": 45,
   "id": "2f274617",
   "metadata": {},
   "outputs": [
    {
     "name": "stdout",
     "output_type": "stream",
     "text": [
      "2\n"
     ]
    }
   ],
   "source": [
    "class CountryDataWithMinTemp(CountryData):\n",
    "    def __init__(self, filename):\n",
    "        super().__init__(filename)\n",
    "        self.min_temp = self.data['min_temp']\n",
    "data3 = CountryDataWithMinTemp('data3.txt')\n",
    "print(data3.min_temp)"
   ]
  },
  {
   "cell_type": "code",
   "execution_count": null,
   "id": "5e150e02",
   "metadata": {},
   "outputs": [],
   "source": [
    "# Магические методы:\n",
    "\n",
    "def __str__(self):\n",
    "    return self.avg_temp > 26\n",
    "\n",
    "def __repr__(self):\n",
    "    return f'File {self.filename} with data {self.data}'   \n",
    "\n",
    "def __lt__(self, obj): #Можно сравнивать файлы less then\n",
    "\n",
    "def __gt__(self, obj): #Можно сравнивать файлы greater then\n",
    "\n",
    "def __add__(self, obj): #Можно складывать файлы \n",
    "    return [self, obj]\n",
    "\n"
   ]
  }
 ],
 "metadata": {
  "kernelspec": {
   "display_name": "Python 3",
   "language": "python",
   "name": "python3"
  },
  "language_info": {
   "codemirror_mode": {
    "name": "ipython",
    "version": 3
   },
   "file_extension": ".py",
   "mimetype": "text/x-python",
   "name": "python",
   "nbconvert_exporter": "python",
   "pygments_lexer": "ipython3",
   "version": "3.13.3"
  }
 },
 "nbformat": 4,
 "nbformat_minor": 5
}
