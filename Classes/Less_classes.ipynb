{
 "cells": [
  {
   "cell_type": "markdown",
   "id": "a73b69fa",
   "metadata": {},
   "source": [
    "## Classes\n",
    "классы - упорядочивание кода. Разбиение его на группы и далее можно обращаться к классам и получать из них объекты. Чтобы не копировать полностью часть кода, которая занесена в класс, можно просто обратиться к нему и к той функции, которая нам нужна в этом классе и тем самым код уменьшится, в случае, если нужно было скопировать "
   ]
  },
  {
   "cell_type": "markdown",
   "id": "0aa6764d",
   "metadata": {},
   "source": [
    "Пример: школа. У школы есть характерисктики, у младших и старших классов есть свои характеристики."
   ]
  },
  {
   "cell_type": "code",
   "execution_count": null,
   "id": "9bc4808e",
   "metadata": {},
   "outputs": [],
   "source": [
    "from abc import abstractmethod\n",
    "\n",
    "class School: # Если в классе есть абстрактный метод, то он становится абстрактным классом - т.е. из него невозможно создать объект.\n",
    "    pupils = True\n",
    "    school_name = 11\n",
    "    director = 'Maria Ivanovna'\n",
    "\n",
    "    def __init__(self, title, pupils_count, teacher): #Инициализация объекта, определенного класса! Говорит о том, что у дочерних объектов будет общая характеристика,\n",
    "# но у каждого индивидуальная, здесь она и задается\n",
    "        self.title = title\n",
    "        self.pupils_count = pupils_count\n",
    "        self.teacher = teacher\n",
    "    \n",
    "    #эта функция является методом (потому что она указывается в классе). у методов всегда есть атрибут self.\n",
    "    def study(self):\n",
    "        print('sitdown and read')\n",
    "\n",
    "    @abstractmethod # Добавили абстрактный метод\n",
    "    def move(self):\n",
    "        pass # пасс означает, что эта функция не реализуется в этом классе, а будет реализовываться в других местах при обращении к ней.\n",
    "\n",
    "class PrimaryGroup(School):\n",
    "    max_age = 11\n",
    "    min_age = 7\n",
    "    building_section = 'left'\n",
    "\n",
    "    def __init__(self, title, pupils_count, teacher, class_room):\n",
    "        super().__init__(title, pupils_count, teacher)\n",
    "        self.class_room = class_room\n",
    "\n",
    "    def move(self):\n",
    "        print('run fast') # Придумали свою реализацию метода\n",
    "        #return super().move() # Обращение к родителю происходит через super. Когда для PrimaryGroup будет вызвано действие move, то будет запущено действие move в родителе(School).\n",
    "\n",
    "class HighGroup(School):\n",
    "    max_age = 18\n",
    "    min_age = 15\n",
    "    building_section = 'Rihgt'\n",
    "\n",
    "    def move(self):\n",
    "        print('Go slowly')\n",
    "\n",
    "class MediumGroup(School):\n",
    "    max_age = 15\n",
    "    min_age = 11\n",
    "    building_section = 'Middle'\n",
    "\n",
    "    def move(self):\n",
    "        print('двигаются средне')\n"
   ]
  },
  {
   "cell_type": "markdown",
   "id": "6d7adb2f",
   "metadata": {},
   "source": [
    "Объект класса = объект типа = представитель класса = экземпляр класса"
   ]
  },
  {
   "cell_type": "code",
   "execution_count": 24,
   "id": "40c58614",
   "metadata": {},
   "outputs": [
    {
     "name": "stdout",
     "output_type": "stream",
     "text": [
      "18\n",
      "11a\n",
      "42\n",
      "11\n",
      "True\n",
      "left\n",
      "Maria Ivanovna\n",
      "11\n",
      "7\n",
      "sitdown and read\n",
      "sitdown and read\n",
      "run fast\n",
      "Go slowly\n",
      "двигаются средне\n"
     ]
    }
   ],
   "source": [
    "first_a = PrimaryGroup('1a', 18, 'Gallina', 42) # мы саоздали объект, который будет являться объектом указанного класса т.е. у этого объекта будут все те функции\\описания\\условия, что описаны в классе\n",
    "eleven_a = HighGroup('11a', 20, 'Marina') # Эти параметры передаются в __init__, они индивидуальны для каждого объекта.\n",
    "eight_a = MediumGroup('8a', 22, 'Alexandra')\n",
    "\n",
    "print(first_a.pupils_count)\n",
    "print(eleven_a.title)\n",
    "print(first_a.class_room)\n",
    "\n",
    "print(first_a.school_name) # мы можем пользоваться тем, что есть в классах относящихся к нашему объекту\n",
    "print(first_a.pupils)\n",
    "print(first_a.building_section)\n",
    "print(first_a.director)\n",
    "print(first_a.max_age)\n",
    "print(first_a.min_age)\n",
    "first_a.study()\n",
    "eleven_a.study()\n",
    "first_a.move()\n",
    "eleven_a.move()\n",
    "eight_a.move()"
   ]
  }
 ],
 "metadata": {
  "kernelspec": {
   "display_name": "Python 3",
   "language": "python",
   "name": "python3"
  },
  "language_info": {
   "codemirror_mode": {
    "name": "ipython",
    "version": 3
   },
   "file_extension": ".py",
   "mimetype": "text/x-python",
   "name": "python",
   "nbconvert_exporter": "python",
   "pygments_lexer": "ipython3",
   "version": "3.13.3"
  }
 },
 "nbformat": 4,
 "nbformat_minor": 5
}
