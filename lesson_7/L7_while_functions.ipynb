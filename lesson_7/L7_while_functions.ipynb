{
 "cells": [
  {
   "cell_type": "markdown",
   "id": "688b95e7",
   "metadata": {},
   "source": [
    "## While loop "
   ]
  },
  {
   "cell_type": "code",
   "execution_count": 2,
   "id": "64b23409",
   "metadata": {},
   "outputs": [
    {
     "name": "stdout",
     "output_type": "stream",
     "text": [
      "Hello\n",
      "Hello\n",
      "Hello\n",
      "Hello\n",
      "Hello\n",
      "The End.\n"
     ]
    }
   ],
   "source": [
    "i = 0\n",
    "\n",
    "while i < 5:\n",
    "    print('Hello')\n",
    "    i += 1\n",
    "\n",
    "print('The End.')\n"
   ]
  },
  {
   "cell_type": "code",
   "execution_count": 5,
   "id": "6f278aca",
   "metadata": {},
   "outputs": [
    {
     "name": "stdout",
     "output_type": "stream",
     "text": [
      "your input is ok (<10)\n",
      "your input is ok (<10)\n",
      "your input is too long\n",
      "your input is too long\n",
      "Goodbye\n",
      "Cool\n"
     ]
    }
   ],
   "source": [
    "while True:\n",
    "    user_input = input('Enter something: ')\n",
    "    if user_input == \"exit\":\n",
    "        print('Goodbye') \n",
    "        break\n",
    "    elif len(user_input) > 10:\n",
    "        print('your input is too long')\n",
    "    elif user_input == \"skip\":\n",
    "        continue # Прерывает текущий шаг и запускает заново. дальнейшие шаги не выполняются.\n",
    "    else:\n",
    "        print('your input is ok (<10)')\n",
    "        \n",
    "print('Cool')\n"
   ]
  },
  {
   "cell_type": "code",
   "execution_count": 6,
   "id": "c31fa022",
   "metadata": {},
   "outputs": [
    {
     "name": "stdout",
     "output_type": "stream",
     "text": [
      "['English', 'texts', 'for', 'beginners', 'to', 'practice', 'reading', 'and', 'comprehension', 'online', 'and', 'for', 'free.']\n",
      "for\n",
      "to\n",
      "comprehension\n",
      "online\n",
      "for\n",
      "English texts beginners practice reading and and free.\n"
     ]
    }
   ],
   "source": [
    "text = \"English texts for beginners to practice reading and comprehension online and for free.\"\n",
    "\n",
    "words = text.split()\n",
    "print(words)\n",
    "\n",
    "fin_words = []\n",
    "for word in words:\n",
    "    if 'o' in word:  # если есть слово с \"о\", то мы его печатаем\n",
    "        print(word)\n",
    "        continue\n",
    "    fin_words.append(word) # если нет, то исключаем слова с \"о\" и печатаем единым текстом.\n",
    "print(' '.join(fin_words))            \n"
   ]
  },
  {
   "cell_type": "markdown",
   "id": "f72d1219",
   "metadata": {},
   "source": [
    "## Functions"
   ]
  },
  {
   "cell_type": "markdown",
   "id": "7b3dee43",
   "metadata": {},
   "source": [
    "- добавляют структурность в код\n",
    "- уменьшают его избыточность "
   ]
  },
  {
   "cell_type": "code",
   "execution_count": null,
   "id": "d1459be7",
   "metadata": {},
   "outputs": [],
   "source": [
    "a = 4\n",
    "b = 5\n",
    "c = 6\n",
    "d = 7\n",
    "e = 3\n",
    "\n",
    "main_number = 42      # ВОТ так делать очень тупо, не надо копировать много раз, лувше вынести в отдельную функцию повтор действия\n",
    "\n",
    "print( a + main_number)\n",
    "print( b + main_number)\n",
    "print( c + main_number)\n",
    "print( d + main_number)\n",
    "print( e + main_number)"
   ]
  },
  {
   "cell_type": "code",
   "execution_count": 15,
   "id": "cf51632b",
   "metadata": {},
   "outputs": [
    {
     "name": "stdout",
     "output_type": "stream",
     "text": [
      "4\n",
      "5\n",
      "6\n",
      "7\n",
      "3\n"
     ]
    }
   ],
   "source": [
    "a = 4\n",
    "b = 5\n",
    "c = 6\n",
    "d = 7\n",
    "e = 3\n",
    "y = 0\n",
    "\n",
    "main_number = 42\n",
    "\n",
    "def calc(numb):\n",
    "    if y == 0:\n",
    "        print(numb)\n",
    "    else:\n",
    "        print(numb + main_number)\n",
    "\n",
    "calc(a)\n",
    "calc(b)\n",
    "calc(c)\n",
    "calc(d)\n",
    "calc(e)"
   ]
  },
  {
   "cell_type": "code",
   "execution_count": null,
   "id": "7f4ba9a1",
   "metadata": {},
   "outputs": [
    {
     "name": "stdout",
     "output_type": "stream",
     "text": [
      "4\n"
     ]
    },
    {
     "data": {
      "text/plain": [
       "7"
      ]
     },
     "execution_count": 18,
     "metadata": {},
     "output_type": "execute_result"
    }
   ],
   "source": [
    "a = 4\n",
    "b = 5\n",
    "c = 6\n",
    "d = 7\n",
    "y = 0\n",
    "\n",
    "main_number = 42\n",
    "\n",
    "def calc(numb): # numb - это параметр и в скобки функции указываются параметры\n",
    "    if y == 0:\n",
    "        return numb\n",
    "    else:\n",
    "        result = numb + main_number\n",
    "        return result # У функции принт - нет ретурна, и нет смысла ее вставлять в ретурн\n",
    "\n",
    "print(calc(a)) #выводим функцию \n",
    "result_b = calc(b) # сохраняем в переменную\n",
    "calc(c) # А здесь уже в скобки вставляем аргумент, который отправляем в функцию\n",
    "calc(d) # А здесь уже в скобки вставляем аргумент, который отправляем в функцию"
   ]
  },
  {
   "cell_type": "code",
   "execution_count": null,
   "id": "2818be79",
   "metadata": {},
   "outputs": [
    {
     "name": "stdout",
     "output_type": "stream",
     "text": [
      "24\n"
     ]
    }
   ],
   "source": [
    "def hello():\n",
    "    a = 12\n",
    "    # Если мы не написали, что мы ждем в возврате, то функция возвращает None.\n",
    "    return a + 12\n",
    "    # Надо вставлять в ретурн то, что мы хотим вернуть, чтобы нам не приходило пустое значение.\n",
    "print(hello())"
   ]
  },
  {
   "cell_type": "code",
   "execution_count": 22,
   "id": "7369c8d1",
   "metadata": {},
   "outputs": [
    {
     "name": "stdout",
     "output_type": "stream",
     "text": [
      "The first word is one, second is two, three, four, five\n",
      "The first word is one, second is two, three, four, five\n"
     ]
    }
   ],
   "source": [
    "def print_words(first, second, third, fourth, fifth):\n",
    "    print(f'The first word is {first}, second is {second}, {third}, {fourth}, {fifth}')\n",
    "\n",
    "print_words('one', 'two', 'three', 'four', 'five')\n",
    "print_words(fifth='five', third='three', fourth='four', first='one', second='two')\n"
   ]
  },
  {
   "cell_type": "code",
   "execution_count": 24,
   "id": "4d9194ed",
   "metadata": {},
   "outputs": [
    {
     "name": "stdout",
     "output_type": "stream",
     "text": [
      "4\n",
      "8\n"
     ]
    }
   ],
   "source": [
    "def power(number, degree=2):\n",
    "    return number ** degree\n",
    "\n",
    "print(power(2))\n",
    "print(power(2,3))"
   ]
  },
  {
   "cell_type": "code",
   "execution_count": 28,
   "id": "ae18a591",
   "metadata": {},
   "outputs": [
    {
     "name": "stdout",
     "output_type": "stream",
     "text": [
      "1 3 6 one 44\n",
      "1 3 6 ghrtueio 44\n"
     ]
    }
   ],
   "source": [
    "def print_words(fit, secd, td, foh='one', fih='two'):\n",
    "    print(fit, secd, td, foh, fih)\n",
    "\n",
    "print_words(1, 3, 6, fih=44) # здесь не передали значение foh и оно вывелось стандартным\n",
    "print_words(fit=1, secd=3, td=6, foh='ghrtueio', fih=44) # Если мы проименовали первый аргумент, то остальные тоже придется проименовывать\n"
   ]
  },
  {
   "cell_type": "code",
   "execution_count": null,
   "id": "a8838888",
   "metadata": {},
   "outputs": [
    {
     "name": "stdout",
     "output_type": "stream",
     "text": [
      "157\n"
     ]
    }
   ],
   "source": [
    "def sum_all(*args): # Неограниченное количество неименованных аргументов\n",
    "    # result = 0\n",
    "    # for x in args:\n",
    "    #     result += x\n",
    "    # return result\n",
    "    return sum(args)\n",
    "\n",
    "print(sum_all(1, 3, 6, 5, 77, 65))\n"
   ]
  },
  {
   "cell_type": "code",
   "execution_count": null,
   "id": "40188e78",
   "metadata": {},
   "outputs": [
    {
     "name": "stdout",
     "output_type": "stream",
     "text": [
      "Product - iphone, price is - 2500.\n",
      "Product - laptop, price is - 444.\n",
      "Product - notebook, price is - 555.\n"
     ]
    }
   ],
   "source": [
    "def price_list(**kwargs): # прайслист приходит в виде словаря.\n",
    "\n",
    "    for title, price in kwargs.items(): #распаковали в переменные и разбили по ключ - значение\n",
    "        print(f'Product - {title}, price is - {price}.')\n",
    "\n",
    "price_list(iphone=2500, laptop=444, notebook=555)\n",
    "\n",
    "    "
   ]
  }
 ],
 "metadata": {
  "kernelspec": {
   "display_name": "Python 3",
   "language": "python",
   "name": "python3"
  },
  "language_info": {
   "codemirror_mode": {
    "name": "ipython",
    "version": 3
   },
   "file_extension": ".py",
   "mimetype": "text/x-python",
   "name": "python",
   "nbconvert_exporter": "python",
   "pygments_lexer": "ipython3",
   "version": "3.9.13"
  }
 },
 "nbformat": 4,
 "nbformat_minor": 5
}
