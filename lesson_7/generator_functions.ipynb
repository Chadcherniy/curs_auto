{
 "cells": [
  {
   "cell_type": "markdown",
   "id": "3351c60e",
   "metadata": {},
   "source": [
    "# Generator functions\n"
   ]
  },
  {
   "cell_type": "markdown",
   "id": "1fdffacb",
   "metadata": {},
   "source": [
    "Они хороши для работы с большим потоком данных, где их огромное число и проще будет вытягивать данные по строчкам, чем открыть целый файл"
   ]
  },
  {
   "cell_type": "code",
   "execution_count": 1,
   "id": "3aedccca",
   "metadata": {},
   "outputs": [
    {
     "name": "stdout",
     "output_type": "stream",
     "text": [
      "Text consists on the word: Ivan and Ivanov\n"
     ]
    }
   ],
   "source": [
    "def generate_text(text1, text2):\n",
    "    return f'Text consists on the word: {text1} and {text2}'\n",
    "print(generate_text('Ivan', 'Ivanov'))\n"
   ]
  },
  {
   "cell_type": "code",
   "execution_count": null,
   "id": "871d309e",
   "metadata": {},
   "outputs": [],
   "source": [
    "n = 2\n",
    "progression = []\n",
    "num = 1\n",
    "while len(progression) < 100000:\n",
    "    progression.append(num)\n",
    "    num += 1"
   ]
  },
  {
   "cell_type": "code",
   "execution_count": null,
   "id": "8f858e84",
   "metadata": {},
   "outputs": [
    {
     "name": "stdout",
     "output_type": "stream",
     "text": [
      "1999999\n"
     ]
    }
   ],
   "source": [
    "def progression(limit=100):\n",
    "    n = 2\n",
    "    num = 1\n",
    "    count = 1\n",
    "    while count < limit: #yield говорит о том что включен генератор функции. \n",
    "        yield num\n",
    "        num += n\n",
    "        count += 1\n",
    "\n",
    "#print(type(progression(10))) # class 'generator'\n",
    "\n",
    "count = 1\n",
    "for number in progression(1000001): #НАПИСАЛИ цикл фор, где мы пробегаемся по всему, что нам возвращает функция генератор. каждый след элемент мы получаем и сохр. в переменную намбер\n",
    "    if count == 1000000:\n",
    "        print(number)\n",
    "        break\n",
    "    count += 1 \n",
    "\n"
   ]
  }
 ],
 "metadata": {
  "kernelspec": {
   "display_name": "Python 3",
   "language": "python",
   "name": "python3"
  },
  "language_info": {
   "codemirror_mode": {
    "name": "ipython",
    "version": 3
   },
   "file_extension": ".py",
   "mimetype": "text/x-python",
   "name": "python",
   "nbconvert_exporter": "python",
   "pygments_lexer": "ipython3",
   "version": "3.9.13"
  }
 },
 "nbformat": 4,
 "nbformat_minor": 5
}
