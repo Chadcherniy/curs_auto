{
 "cells": [
  {
   "cell_type": "markdown",
   "id": "338f0466",
   "metadata": {},
   "source": [
    "# Modules"
   ]
  },
  {
   "cell_type": "code",
   "execution_count": null,
   "id": "ca9210b1",
   "metadata": {},
   "outputs": [
    {
     "name": "stdout",
     "output_type": "stream",
     "text": [
      "0\n",
      "4\n"
     ]
    }
   ],
   "source": [
    "import random\n",
    "\n",
    "print(random.randint(0, 5)) # рандомное число от 0 до 5 включительно\n",
    "print(random.randrange(0, 10, 2)) # с шагом "
   ]
  },
  {
   "cell_type": "code",
   "execution_count": null,
   "id": "5d5c54a9",
   "metadata": {},
   "outputs": [],
   "source": [
    "# модуль ОС\n",
    "import os\n",
    "#позволяет взаимодействовать с окружением"
   ]
  },
  {
   "cell_type": "code",
   "execution_count": null,
   "id": "dcfb0982",
   "metadata": {},
   "outputs": [],
   "source": [
    "# модуль sys\n",
    "import sys\n",
    "# разные платформы"
   ]
  }
 ],
 "metadata": {
  "kernelspec": {
   "display_name": "Python 3",
   "language": "python",
   "name": "python3"
  },
  "language_info": {
   "codemirror_mode": {
    "name": "ipython",
    "version": 3
   },
   "file_extension": ".py",
   "mimetype": "text/x-python",
   "name": "python",
   "nbconvert_exporter": "python",
   "pygments_lexer": "ipython3",
   "version": "3.9.13"
  }
 },
 "nbformat": 4,
 "nbformat_minor": 5
}
