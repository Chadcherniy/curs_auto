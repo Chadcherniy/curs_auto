{
 "cells": [
  {
   "cell_type": "markdown",
   "id": "376e361d",
   "metadata": {},
   "source": [
    "Функции"
   ]
  },
  {
   "cell_type": "code",
   "execution_count": null,
   "id": "ee0543d8",
   "metadata": {},
   "outputs": [],
   "source": [
    "min\n",
    "max\n",
    "sum\n",
    "round\n",
    "abs\n",
    "sorted\n"
   ]
  },
  {
   "cell_type": "code",
   "execution_count": null,
   "id": "e834d448",
   "metadata": {},
   "outputs": [
    {
     "name": "stdout",
     "output_type": "stream",
     "text": [
      "845\n",
      "[1, 2, 11, 33, 45, 845]\n"
     ]
    }
   ],
   "source": [
    "numbers = [1, 2, 33, 845, 11, 45]\n",
    "\n",
    "print(max(numbers))\n",
    "\n",
    "numbers.sort() #метод сорт\n",
    "print(numbers)\n",
    "\n"
   ]
  },
  {
   "cell_type": "markdown",
   "id": "5582868f",
   "metadata": {},
   "source": [
    "## Map\n",
    "применение операции к каждому элементу"
   ]
  },
  {
   "cell_type": "code",
   "execution_count": null,
   "id": "5d24f790",
   "metadata": {},
   "outputs": [
    {
     "name": "stdout",
     "output_type": "stream",
     "text": [
      "[2, 4, 66, 1690, 22, 90]\n"
     ]
    }
   ],
   "source": [
    "my_list = [1, 2, 33, 845, 11, 45]\n",
    "\n",
    "def mult_by_2(x):\n",
    "    return x * 2\n",
    "\n",
    "new_list = map(mult_by_2, my_list) # добавили в аргументы - \"что нужно делать\" и \"с чем это делать\"\n",
    "print(list(new_list)) #нельзя просто распечатать МАР, приходится преобразовывать его"
   ]
  },
  {
   "cell_type": "code",
   "execution_count": null,
   "id": "8266028e",
   "metadata": {},
   "outputs": [
    {
     "name": "stdout",
     "output_type": "stream",
     "text": [
      "[2, 4, 66, 1690, 22, 90]\n"
     ]
    }
   ],
   "source": [
    "my_list = [1, 2, 33, 845, 11, 45]\n",
    "\n",
    "new_list = map(lambda x: x * 2, my_list) #лямбда позволяет написать фанкцию в аргумент. Х: - принимает значение, а Х*2 возвращает\n",
    "#используется когда код простой, без сложных условий\n",
    "print(list(new_list))"
   ]
  },
  {
   "cell_type": "markdown",
   "id": "7ed6e006",
   "metadata": {},
   "source": [
    "## Тернарный оператор"
   ]
  },
  {
   "cell_type": "code",
   "execution_count": 12,
   "id": "68aec3e0",
   "metadata": {},
   "outputs": [
    {
     "name": "stdout",
     "output_type": "stream",
     "text": [
      "[2, 4, 55, 165, 225, 4225]\n"
     ]
    }
   ],
   "source": [
    "my_list = [1, 2, 33, 845, 11, 45]\n",
    "\n",
    "\n",
    "new_list = map(lambda x: x * 5 if x > 10 else x * 2, my_list)  # 'x * 5 if x > 10 else x * 2' вот это и есть тернарный оператор. Условие записанное в одну строчку\n",
    "sort_list = sorted(new_list)\n",
    "\n",
    "print(sort_list)"
   ]
  },
  {
   "cell_type": "markdown",
   "id": "04225a43",
   "metadata": {},
   "source": [
    "## Filter"
   ]
  },
  {
   "cell_type": "markdown",
   "id": "d07dc42f",
   "metadata": {},
   "source": [
    "вариант 1"
   ]
  },
  {
   "cell_type": "code",
   "execution_count": null,
   "id": "4d54cb23",
   "metadata": {},
   "outputs": [
    {
     "name": "stdout",
     "output_type": "stream",
     "text": [
      "[2, 4, 6, 8]\n"
     ]
    }
   ],
   "source": [
    "my_list2 = [1, 2, 3, 4, 5, 6, 7, 8, 9,]\n",
    "\n",
    "new_list2 = []\n",
    "for x in my_list2:\n",
    "    if x % 2 == 0:\n",
    "        new_list2.append(x) # если число четное, то оно попадает в новый список\n",
    "print(new_list2)\n"
   ]
  },
  {
   "cell_type": "markdown",
   "id": "7686a437",
   "metadata": {},
   "source": [
    "вариант 2"
   ]
  },
  {
   "cell_type": "code",
   "execution_count": 14,
   "id": "ac0c3bf9",
   "metadata": {},
   "outputs": [
    {
     "name": "stdout",
     "output_type": "stream",
     "text": [
      "[2, 4, 6, 8]\n"
     ]
    }
   ],
   "source": [
    "my_list2 = [1, 2, 3, 4, 5, 6, 7, 8, 9,]\n",
    "\n",
    "def is_even(x):\n",
    "    if x % 2 == 0:\n",
    "        return True\n",
    "    else:\n",
    "        False\n",
    "\n",
    "new_list2 = filter(is_even, my_list2)\n",
    "print(list(new_list2))"
   ]
  },
  {
   "cell_type": "markdown",
   "id": "0f40b448",
   "metadata": {},
   "source": [
    "вариант 3"
   ]
  },
  {
   "cell_type": "code",
   "execution_count": 16,
   "id": "f64af5b9",
   "metadata": {},
   "outputs": [
    {
     "name": "stdout",
     "output_type": "stream",
     "text": [
      "[2, 4, 6, 8]\n"
     ]
    }
   ],
   "source": [
    "my_list2 = [1, 2, 3, 4, 5, 6, 7, 8, 9,]\n",
    "\n",
    "def is_even(x):\n",
    "    return x % 2 == 0\n",
    "\n",
    "new_list2 = filter(is_even, my_list2)\n",
    "print(list(new_list2))"
   ]
  },
  {
   "cell_type": "markdown",
   "id": "7c9c2a4c",
   "metadata": {},
   "source": [
    "вариант 4"
   ]
  },
  {
   "cell_type": "code",
   "execution_count": 15,
   "id": "e0d629ad",
   "metadata": {},
   "outputs": [
    {
     "name": "stdout",
     "output_type": "stream",
     "text": [
      "[2, 4, 6, 8]\n"
     ]
    }
   ],
   "source": [
    "my_list2 = [1, 2, 3, 4, 5, 6, 7, 8, 9,]\n",
    "\n",
    "new_list2 = filter(lambda x: x % 2 == 0, my_list2)\n",
    "print(list(new_list2))"
   ]
  },
  {
   "cell_type": "markdown",
   "id": "413e229f",
   "metadata": {},
   "source": [
    "## Datatime"
   ]
  },
  {
   "cell_type": "code",
   "execution_count": 21,
   "id": "78d134fd",
   "metadata": {},
   "outputs": [
    {
     "name": "stdout",
     "output_type": "stream",
     "text": [
      "2025-05-14 18:21:11.168083\n",
      "18\n",
      "2025\n",
      "3\n"
     ]
    }
   ],
   "source": [
    "import datetime\n",
    "time_now = datetime.datetime.now()\n",
    "print(time_now)\n",
    "print(time_now.hour)\n",
    "print(time_now.year)\n",
    "print(time_now.isoweekday())"
   ]
  },
  {
   "cell_type": "code",
   "execution_count": 24,
   "id": "5bd29fa0",
   "metadata": {},
   "outputs": [
    {
     "name": "stdout",
     "output_type": "stream",
     "text": [
      "1980-01-15 00:00:00\n",
      "316731600.0\n"
     ]
    }
   ],
   "source": [
    "easy_date = datetime.datetime(1980, 1, 15)\n",
    "print(easy_date)\n",
    "print(easy_date.timestamp())"
   ]
  },
  {
   "cell_type": "code",
   "execution_count": 26,
   "id": "b4f59fb8",
   "metadata": {},
   "outputs": [
    {
     "name": "stdout",
     "output_type": "stream",
     "text": [
      "2023-06-05 12:30:10\n",
      "6\n"
     ]
    }
   ],
   "source": [
    "my_time = '2023/06/05 12 hours, 30 mins, 10 secs'\n",
    "\n",
    "python_date = datetime.datetime.strptime(my_time, '%Y/%m/%d %H hours, %M mins, %S secs')\n",
    "print(python_date)\n",
    "print(python_date.month)\n"
   ]
  },
  {
   "cell_type": "code",
   "execution_count": 28,
   "id": "61d0bf49",
   "metadata": {},
   "outputs": [
    {
     "name": "stdout",
     "output_type": "stream",
     "text": [
      "Year: 23, month: June, day: 05\n"
     ]
    }
   ],
   "source": [
    "human_date = python_date.strftime('Year: %y, month: %B, day: %d')\n",
    "print(human_date)"
   ]
  }
 ],
 "metadata": {
  "kernelspec": {
   "display_name": "Python 3",
   "language": "python",
   "name": "python3"
  },
  "language_info": {
   "codemirror_mode": {
    "name": "ipython",
    "version": 3
   },
   "file_extension": ".py",
   "mimetype": "text/x-python",
   "name": "python",
   "nbconvert_exporter": "python",
   "pygments_lexer": "ipython3",
   "version": "3.9.13"
  }
 },
 "nbformat": 4,
 "nbformat_minor": 5
}
