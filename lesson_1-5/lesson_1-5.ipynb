{
 "cells": [
  {
   "cell_type": "markdown",
   "id": "06992786",
   "metadata": {},
   "source": [
    "# Первый урок.\n",
    "Названия, сущности."
   ]
  },
  {
   "cell_type": "markdown",
   "id": "d8b5edc2",
   "metadata": {},
   "source": []
  },
  {
   "cell_type": "markdown",
   "id": "d08bd6f3",
   "metadata": {},
   "source": [
    "Операторы: \n",
    "1. Арифметические (+, -, *, /, %, **, //)\n",
    "2. сравнение (<, <=, >=, >, ==, !=)\n",
    "3. присваивание (=, +=, -=, *=, /=)\n",
    "4. логические (or and not)\n",
    "5. битовые\n",
    "6. принадлежности\n",
    "7. идентичности"
   ]
  },
  {
   "cell_type": "markdown",
   "id": "3517b47c",
   "metadata": {},
   "source": [
    "# Второй урок"
   ]
  },
  {
   "cell_type": "markdown",
   "id": "aeca5a2d",
   "metadata": {},
   "source": [
    "Типы данных:\n",
    "основные: \n",
    "1. Int - число\n",
    "2. Float - число с точкой\n",
    "3. String - строка\n",
    "4. Boolean - булево\n",
    "\n",
    "дополнительные: \n",
    "\n",
    "5. List - список\n",
    "my_list = [1, 2, 3, text]\n",
    "6. Dict - словарь\n",
    "my_dict = {'name': 'egor'}\n",
    "7. Tuple - кортеж\n",
    "my_tuple = (1, 2, 3)\n",
    "8. Set - множество\n",
    "my_set = ()"
   ]
  },
  {
   "cell_type": "markdown",
   "id": "0536effe",
   "metadata": {},
   "source": [
    "## List - Список\n",
    "\n",
    "- Изменяем\n",
    "- хранит данные различных типов\n",
    "- МОЖНО ВЫПОЛНЯТЬ ПОИСК ПО ИНДЕКСУ \n",
    "-"
   ]
  },
  {
   "cell_type": "code",
   "execution_count": null,
   "id": "4f064b29",
   "metadata": {},
   "outputs": [
    {
     "name": "stdout",
     "output_type": "stream",
     "text": [
      "[2, 3, 'textt', 42, 'text']\n",
      "5\n",
      "1\n"
     ]
    }
   ],
   "source": [
    "my_list = [1, 2, 3, 'textt']\n",
    "my_list.append(42) #добавляем в конец списка\n",
    "my_list.append('text') #добавляем в конец списка\n",
    "poped = my_list.pop(0) #удаляем элемент с индексом 0 из списка\n",
    "\n",
    "print(my_list)\n",
    "print(len(my_list))\n",
    "print(poped)\n"
   ]
  },
  {
   "cell_type": "markdown",
   "id": "ac84904f",
   "metadata": {},
   "source": [
    "## Tuple - кортеж\n",
    "\n",
    "- хранят данные различных типов\n",
    "- НЕИЗМЕНЯЕМЫ\n",
    "- занимают меньший размер\n",
    "- Оптимизируются интерпритатором\n",
    "- можно получать элементы по индексу\n",
    "Нельзя что-то добавить или изменить внутри кортежа"
   ]
  },
  {
   "cell_type": "code",
   "execution_count": null,
   "id": "1012f030",
   "metadata": {},
   "outputs": [
    {
     "name": "stdout",
     "output_type": "stream",
     "text": [
      "2\n",
      "3\n",
      "4\n"
     ]
    }
   ],
   "source": [
    "my_tuple = (1, 2, 3, 'god', False, 2.43, 1, 1)\n",
    "print(my_tuple[1]) #напечатали элемент с индексом 1\n",
    "print(my_tuple.count(1)) # считаем сколько раз встречается число 1 в кортеже\n",
    "print(my_tuple.index(False))\n"
   ]
  },
  {
   "cell_type": "markdown",
   "id": "2aad2e74",
   "metadata": {},
   "source": [
    "## Set(множества)\n",
    "\n",
    "- содержит только неповторяющиеся элементы\n",
    "- не гарантирует порядок элементов\n",
    "- работа с ним похожа на работу со \n",
    "- изменяемый"
   ]
  },
  {
   "cell_type": "code",
   "execution_count": null,
   "id": "7f263ed8",
   "metadata": {},
   "outputs": [
    {
     "name": "stdout",
     "output_type": "stream",
     "text": [
      "{False, 1, 2, 3, 4, 2.42, None, 'text'}\n",
      "{False, 1, 2, 3, 4, 2.42, None, 'text', 54}\n"
     ]
    }
   ],
   "source": [
    "my_set = {1, 2, 3, 4, None, 'text', False, 2.42, 2, 3}\n",
    "print(my_set)\n",
    "my_set.add(54)\n",
    "print(my_set)\n",
    "\n",
    "# my_set = set() - только так можно создать пустой set\n"
   ]
  },
  {
   "cell_type": "markdown",
   "id": "109d97cf",
   "metadata": {},
   "source": [
    "## Dict - словарь\n",
    "\n",
    "- \"ключ\": \"значение\"\n",
    "- нельзя получить ключ по значению, придется искать другие способы: "
   ]
  },
  {
   "cell_type": "code",
   "execution_count": null,
   "id": "be1fb91f",
   "metadata": {},
   "outputs": [
    {
     "name": "stdout",
     "output_type": "stream",
     "text": [
      "two\n"
     ]
    }
   ],
   "source": [
    "#Чтобы получить ключ через значение\n",
    "my_dict = {'one': 1, 'two': 2, 'three': 3}\n",
    "value_to_find = 2\n",
    "key = next((k for k, v in my_dict.items() if v == value_to_find), None)\n",
    "print(key)  # Выведет: 'two'"
   ]
  },
  {
   "cell_type": "code",
   "execution_count": null,
   "id": "7fa7666d",
   "metadata": {},
   "outputs": [
    {
     "name": "stdout",
     "output_type": "stream",
     "text": [
      "value\n",
      "dict_keys(['one', 'two', 'three', 'four'])\n",
      "dict_values(['value', 'value2', 'popa', False])\n",
      "dict_items([('one', 'value'), ('two', 'value2'), ('three', 'popa'), ('four', False)])\n"
     ]
    }
   ],
   "source": [
    "my_dict = {'one': 'value', 'two': 'value2'}\n",
    "print(my_dict['one'])\n",
    "my_dict['three'] = 'popa'\n",
    "my_dict['four'] = False\n",
    "\n",
    "print(my_dict.keys()) # получить все ключи\n",
    "print(my_dict.values()) # получить все значения\n",
    "print(my_dict.items()) # получить все ключи и значения\n",
    "      \n"
   ]
  }
 ],
 "metadata": {
  "language_info": {
   "name": "python"
  }
 },
 "nbformat": 4,
 "nbformat_minor": 5
}
