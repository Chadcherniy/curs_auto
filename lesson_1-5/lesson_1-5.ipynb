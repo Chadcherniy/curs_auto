{
 "cells": [
  {
   "cell_type": "markdown",
   "id": "06992786",
   "metadata": {},
   "source": [
    "# Первый урок.\n",
    "Названия, сущности."
   ]
  },
  {
   "cell_type": "markdown",
   "id": "d8b5edc2",
   "metadata": {},
   "source": []
  },
  {
   "cell_type": "markdown",
   "id": "d08bd6f3",
   "metadata": {},
   "source": [
    "Операторы: \n",
    "1. Арифметические (+, -, *, /, %, **, //)\n",
    "2. сравнение (<, <=, >=, >, ==, !=)\n",
    "3. присваивание (=, +=, -=, *=, /=)\n",
    "4. логические (or and not)\n",
    "5. битовые\n",
    "6. принадлежности\n",
    "7. идентичности"
   ]
  },
  {
   "cell_type": "markdown",
   "id": "3517b47c",
   "metadata": {},
   "source": [
    "# Второй урок"
   ]
  },
  {
   "cell_type": "markdown",
   "id": "aeca5a2d",
   "metadata": {},
   "source": [
    "Типы данных:\n",
    "основные: \n",
    "1. Int - число\n",
    "2. Float - число с точкой\n",
    "3. String - строка\n",
    "4. Boolean - булево\n",
    "\n",
    "дополнительные: \n",
    "\n",
    "5. List - список\n",
    "my_list = [1, 2, 3, text]\n",
    "6. Dict - словарь\n",
    "my_dict = {'name': 'egor'}\n",
    "7. Tuple - кортеж\n",
    "my_tuple = (1, 2, 3)\n",
    "8. Set - множество\n",
    "my_set = ()"
   ]
  },
  {
   "cell_type": "markdown",
   "id": "0536effe",
   "metadata": {},
   "source": [
    "## List - Список\n",
    "\n",
    "- Изменяем\n",
    "- хранит данные различных типов\n",
    "- МОЖНО ВЫПОЛНЯТЬ ПОИСК ПО ИНДЕКСУ \n",
    "-"
   ]
  },
  {
   "cell_type": "code",
   "execution_count": null,
   "id": "4f064b29",
   "metadata": {},
   "outputs": [
    {
     "name": "stdout",
     "output_type": "stream",
     "text": [
      "[2, 3, 'textt', 42, 'text']\n",
      "5\n",
      "1\n"
     ]
    }
   ],
   "source": [
    "my_list = [1, 2, 3, 'textt']\n",
    "my_list.append(42) #добавляем в конец списка\n",
    "my_list.append('text') #добавляем в конец списка\n",
    "poped = my_list.pop(0) #удаляем элемент с индексом 0 из списка\n",
    "\n",
    "print(my_list)\n",
    "print(len(my_list))\n",
    "print(poped)\n"
   ]
  },
  {
   "cell_type": "markdown",
   "id": "ac84904f",
   "metadata": {},
   "source": [
    "## Tuple - кортеж\n",
    "\n",
    "- хранят данные различных типов\n",
    "- НЕИЗМЕНЯЕМЫ\n",
    "- занимают меньший размер\n",
    "- Оптимизируются интерпритатором\n",
    "- можно получать элементы по индексу\n",
    "Нельзя что-то добавить или изменить внутри кортежа"
   ]
  },
  {
   "cell_type": "code",
   "execution_count": null,
   "id": "1012f030",
   "metadata": {},
   "outputs": [
    {
     "name": "stdout",
     "output_type": "stream",
     "text": [
      "2\n",
      "3\n",
      "4\n"
     ]
    }
   ],
   "source": [
    "my_tuple = (1, 2, 3, 'god', False, 2.43, 1, 1)\n",
    "print(my_tuple[1]) #напечатали элемент с индексом 1\n",
    "print(my_tuple.count(1)) # считаем сколько раз встречается число 1 в кортеже\n",
    "print(my_tuple.index(False))\n"
   ]
  },
  {
   "cell_type": "markdown",
   "id": "2aad2e74",
   "metadata": {},
   "source": [
    "## Set(множества)\n",
    "\n",
    "- содержит только неповторяющиеся элементы\n",
    "- не гарантирует порядок элементов\n",
    "- работа с ним похожа на работу со \n",
    "- изменяемый"
   ]
  },
  {
   "cell_type": "code",
   "execution_count": null,
   "id": "7f263ed8",
   "metadata": {},
   "outputs": [
    {
     "name": "stdout",
     "output_type": "stream",
     "text": [
      "{False, 1, 2, 3, 4, 2.42, None, 'text'}\n",
      "{False, 1, 2, 3, 4, 2.42, None, 'text', 54}\n"
     ]
    }
   ],
   "source": [
    "my_set = {1, 2, 3, 4, None, 'text', False, 2.42, 2, 3}\n",
    "print(my_set)\n",
    "my_set.add(54)\n",
    "print(my_set)\n",
    "\n",
    "# my_set = set() - только так можно создать пустой set\n"
   ]
  },
  {
   "cell_type": "markdown",
   "id": "109d97cf",
   "metadata": {},
   "source": [
    "## Dict - словарь\n",
    "\n",
    "- \"ключ\": \"значение\"\n",
    "- нельзя получить ключ по значению, придется искать другие способы: "
   ]
  },
  {
   "cell_type": "code",
   "execution_count": null,
   "id": "be1fb91f",
   "metadata": {},
   "outputs": [
    {
     "name": "stdout",
     "output_type": "stream",
     "text": [
      "two\n"
     ]
    }
   ],
   "source": [
    "#Чтобы получить ключ через значение\n",
    "my_dict = {'one': 1, 'two': 2, 'three': 3}\n",
    "value_to_find = 2\n",
    "key = next((k for k, v in my_dict.items() if v == value_to_find), None)\n",
    "print(key)  # Выведет: 'two'"
   ]
  },
  {
   "cell_type": "code",
   "execution_count": null,
   "id": "7fa7666d",
   "metadata": {},
   "outputs": [
    {
     "name": "stdout",
     "output_type": "stream",
     "text": [
      "value\n",
      "dict_keys(['one', 'two', 'three', 'four'])\n",
      "dict_values(['value', 'value2', 'popa', False])\n",
      "dict_items([('one', 'value'), ('two', 'value2'), ('three', 'popa'), ('four', False)])\n"
     ]
    }
   ],
   "source": [
    "my_dict = {'one': 'value', 'two': 'value2'}\n",
    "print(my_dict['one'])\n",
    "my_dict['three'] = 'popa'\n",
    "my_dict['four'] = False\n",
    "\n",
    "print(my_dict.keys()) # получить все ключи\n",
    "print(my_dict.values()) # получить все значения\n",
    "print(my_dict.items()) # получить все ключи и значения\n",
    "      \n"
   ]
  },
  {
   "cell_type": "markdown",
   "id": "d67dfeeb",
   "metadata": {},
   "source": [
    "# Урок 5. \n",
    "## Basic 3"
   ]
  },
  {
   "cell_type": "markdown",
   "id": "00602a99",
   "metadata": {},
   "source": [
    "Распаковка: распределение элементов коллекции по отдельным переменным"
   ]
  },
  {
   "cell_type": "code",
   "execution_count": 2,
   "id": "0fe58faa",
   "metadata": {},
   "outputs": [
    {
     "name": "stdout",
     "output_type": "stream",
     "text": [
      "1 textt 1 god False\n"
     ]
    }
   ],
   "source": [
    "my_list = [1, 'textt']\n",
    "my_tuple = (1, 'god', False)\n",
    "\n",
    "# a = my_list[0]\n",
    "# b = my_list[1]    Здесь мы вытаскиваем значения по переменным обращаясь по индексу.\n",
    "# c = my_tuple[0]\n",
    "# d = my_tuple[1]\n",
    "# e = my_tuple[2]\n",
    "\n",
    "a, b = my_list # вместо отдельной записи каждой переменной, сразу распаковываем в разные.\n",
    "c, d, e = my_tuple # вместо отдельной записи каждой переменной, сразу распаковываем в разные.\n",
    "\n",
    "print(a, b, c, d, e)\n"
   ]
  },
  {
   "cell_type": "markdown",
   "id": "5e6ed6c4",
   "metadata": {},
   "source": [
    "Срез: Извлечение среза позволяет взять из списка определенную его часть."
   ]
  },
  {
   "cell_type": "code",
   "execution_count": null,
   "id": "45396c8c",
   "metadata": {},
   "outputs": [
    {
     "name": "stdout",
     "output_type": "stream",
     "text": [
      "[1, 3, 4, 645, 'rht', False, None]\n",
      "[3, 4]\n",
      "[3, 4, 645, 'rht']\n",
      "[None, False, 'rht', 645, 4, 3, 1]\n"
     ]
    }
   ],
   "source": [
    "ll = [1, 3, 4, 645, 'rht', False, None]\n",
    "print(ll)\n",
    "print(ll[1:3]) # с первого по третий элемент (не вкл. третий)\n",
    "print(ll[1:5:1]) # с первого по пятый (не вкл. пятый) с шагом 1\n",
    "print(ll[::-1]) # в другую сторону"
   ]
  },
  {
   "cell_type": "markdown",
   "id": "d39941e2",
   "metadata": {},
   "source": [
    "Методы строк:"
   ]
  },
  {
   "cell_type": "code",
   "execution_count": null,
   "id": "c47e461e",
   "metadata": {},
   "outputs": [
    {
     "name": "stdout",
     "output_type": "stream",
     "text": [
      "t\n",
      "14\n",
      "5\n",
      "1\n",
      "2\n",
      "11\n",
      "True\n",
      "True\n",
      "False\n"
     ]
    }
   ],
   "source": [
    "text = 'text in my rap'\n",
    "print(text[3]) # печатает 3ий индекс\n",
    "print(len(text)) # количество символов в переменной\n",
    "print(text.index('in')) # индекс с которого начинается слово 'in'\n",
    "print(text.count('my')) # сколько раз встречается значение\n",
    "print(text.count('t'))\n",
    "print(text.find('rap')) # индекс\n",
    "print('in' in text) # поиск элемента в переменной\n",
    "print(text.startswith('text')) # проверка, что элемент начинается с определенного значения\n",
    "print(text.endswith('my')) # проверка, что элемент заканчивается определенным значением"
   ]
  },
  {
   "cell_type": "code",
   "execution_count": 13,
   "id": "ea856024",
   "metadata": {},
   "outputs": [
    {
     "name": "stdout",
     "output_type": "stream",
     "text": [
      "TEXT IN MY RAP\n"
     ]
    },
    {
     "data": {
      "text/plain": [
       "'text in my rap'"
      ]
     },
     "execution_count": 13,
     "metadata": {},
     "output_type": "execute_result"
    }
   ],
   "source": [
    "text = 'text in my rap'\n",
    "\n",
    "text.title() # делает каждую первую букву заглавной\n",
    "text.capitalize() # делает первую букву заглавной\n",
    "print(text.upper()) # все буквы большие\n",
    "text.lower()  # все буквы маленькие"
   ]
  },
  {
   "cell_type": "code",
   "execution_count": null,
   "id": "71612695",
   "metadata": {},
   "outputs": [
    {
     "name": "stdout",
     "output_type": "stream",
     "text": [
      " \"Hello universe!\" \n",
      "\"Hello universe!\"\n",
      "Hello world!\n"
     ]
    }
   ],
   "source": [
    "msg = ' \"Hello world!\" '\n",
    "msg = msg.replace('world', 'universe') # замена одних данных на другие\n",
    "print(msg)\n",
    "msg1 = msg.strip() # отсекли лишние пробелы по бокам\n",
    "print(msg1)\n",
    "\n",
    "# также можно использовать чтобы почистить от какого то символа\n",
    "msg2 = '\"Hello world!\"'\n",
    "msg2 = msg2.strip('\"') # есть еще rstrip() и lstrip() - правый и левый обрез\n",
    "print(msg2)"
   ]
  },
  {
   "cell_type": "markdown",
   "id": "1f9dc0e4",
   "metadata": {},
   "source": [
    "## Строка <-> Список"
   ]
  },
  {
   "cell_type": "code",
   "execution_count": 2,
   "id": "12ebfe39",
   "metadata": {},
   "outputs": [
    {
     "name": "stdout",
     "output_type": "stream",
     "text": [
      "['some', 'little', 'text']\n",
      "['some', 'little', 'text']\n"
     ]
    }
   ],
   "source": [
    "my_string = 'some little text'\n",
    "my_string2 = 'some,little,text'\n",
    "list_from_text = my_string.split() # превращаем строку в список\n",
    "list_from_text2 = my_string2.split(',') # превращаем строку в список, указывая на то, чем разделены элементы строки.\n",
    "print(list_from_text)\n",
    "print(list_from_text2)\n"
   ]
  },
  {
   "cell_type": "code",
   "execution_count": 30,
   "id": "541685c7",
   "metadata": {},
   "outputs": [
    {
     "name": "stdout",
     "output_type": "stream",
     "text": [
      "['Python', 'Java', 'PHP']\n",
      "Python, Java, PHP\n",
      "Student knows these languages: Python, Java, PHP\n"
     ]
    }
   ],
   "source": [
    "languages = ['Python', 'Java', 'PHP']\n",
    "print(languages)\n",
    "languages1 = ', ' .join(languages) # объединяем отдельные элементы из списка в один через \",\"\n",
    "print(languages1)\n",
    "print('Student knows these languages:', ', '.join(languages))"
   ]
  },
  {
   "cell_type": "markdown",
   "id": "b9397df7",
   "metadata": {},
   "source": [
    "## Форматирование строки"
   ]
  },
  {
   "cell_type": "code",
   "execution_count": null,
   "id": "9c7c7292",
   "metadata": {},
   "outputs": [
    {
     "name": "stdout",
     "output_type": "stream",
     "text": [
      "First word is one second word is two\n",
      "First word is two, second word is one.\n",
      "First word is one, second word is two.\n"
     ]
    }
   ],
   "source": [
    "a = 'one'\n",
    "b = 'two'\n",
    "\n",
    "my_text = 'First word is %s second word is %s'\n",
    "print(my_text % (a, b)) # можно так подставить только строчное значение\n",
    "\n",
    "my_text = 'First word is {1}, second word is {0}.'\n",
    "print(my_text.format (a, b)) # а можно так подставить только строчное значение. \n",
    "# Если переменная каким-то образом стоит после места вставки, то лучше пользоваться этим методом!\n",
    "\n",
    "my_text2 = f'First word is {a}, second word is {b}.'\n",
    "print(my_text2) # Лучше так подставить"
   ]
  }
 ],
 "metadata": {
  "kernelspec": {
   "display_name": "Python 3",
   "language": "python",
   "name": "python3"
  },
  "language_info": {
   "codemirror_mode": {
    "name": "ipython",
    "version": 3
   },
   "file_extension": ".py",
   "mimetype": "text/x-python",
   "name": "python",
   "nbconvert_exporter": "python",
   "pygments_lexer": "ipython3",
   "version": "3.9.13"
  }
 },
 "nbformat": 4,
 "nbformat_minor": 5
}
