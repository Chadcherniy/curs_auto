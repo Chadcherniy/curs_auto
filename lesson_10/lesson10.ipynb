{
 "cells": [
  {
   "cell_type": "markdown",
   "id": "c72b88f2",
   "metadata": {},
   "source": [
    "## Декораторы\n",
    "упрощают и делают красивее код"
   ]
  },
  {
   "cell_type": "code",
   "execution_count": null,
   "id": "1c627b7e",
   "metadata": {},
   "outputs": [
    {
     "name": "stdout",
     "output_type": "stream",
     "text": [
      "simple1\n",
      "simple2\n",
      "befor\n",
      "simple1\n",
      "after\n",
      "befor\n",
      "simple2\n",
      "after\n"
     ]
    }
   ],
   "source": [
    "def func1(give_me_a_func):\n",
    "    print('before')\n",
    "    give_me_a_func()\n",
    "    print('after')\n",
    "\n",
    "def sim1():\n",
    "    print('simple1')\n",
    "\n",
    "def sim2():\n",
    "    print('simple2')\n",
    "\n",
    "sim1()\n",
    "sim2()\n",
    "\n",
    "func1(sim1)\n",
    "func1(sim2)"
   ]
  },
  {
   "cell_type": "code",
   "execution_count": 5,
   "id": "835ba725",
   "metadata": {},
   "outputs": [
    {
     "name": "stdout",
     "output_type": "stream",
     "text": [
      "before\n",
      "simple1\n",
      "after\n",
      "before\n",
      "simple2\n",
      "after\n"
     ]
    }
   ],
   "source": [
    "def add_text(func):\n",
    "\n",
    "    def wrapper():\n",
    "        print('before')\n",
    "        func()\n",
    "        print('after')\n",
    "\n",
    "    return wrapper\n",
    "\n",
    "def sim1():\n",
    "    print('simple1')\n",
    "\n",
    "sim1 = add_text(sim1)\n",
    "sim1()\n",
    "\n",
    "def sim2():\n",
    "    print('simple2')\n",
    "\n",
    "sim2 = add_text(sim2)\n",
    "sim2()"
   ]
  },
  {
   "cell_type": "code",
   "execution_count": null,
   "id": "544e0643",
   "metadata": {},
   "outputs": [
    {
     "name": "stdout",
     "output_type": "stream",
     "text": [
      "before\n",
      "simple2\n",
      "after\n",
      "before\n",
      "simple1\n",
      "after\n"
     ]
    }
   ],
   "source": [
    "def add_text(func):\n",
    "\n",
    "    def wrapper():\n",
    "        print('before')\n",
    "        func()\n",
    "        print('after')\n",
    "\n",
    "    return wrapper\n",
    "\n",
    "@add_text # вот за счет этого мы сказали, что функция add_text является декоратором для функции sim1\n",
    "def sim1():\n",
    "    print('simple1')\n",
    "\n",
    "sim1() # add_text(sim1)()\n",
    "\n",
    "@add_text\n",
    "def sim2():\n",
    "    print('simple2')\n",
    "\n",
    "sim2() # add_text(sim2)()\n"
   ]
  },
  {
   "cell_type": "code",
   "execution_count": 11,
   "id": "cd55758e",
   "metadata": {},
   "outputs": [
    {
     "name": "stdout",
     "output_type": "stream",
     "text": [
      "function sim1 started\n",
      "simple1\n",
      "function sim1 finished\n",
      "function sim2 started\n",
      "simple2\n",
      "function sim2 finished\n"
     ]
    },
    {
     "ename": "TypeError",
     "evalue": "add_logg.<locals>.wrapper() takes 0 positional arguments but 1 was given",
     "output_type": "error",
     "traceback": [
      "\u001b[31m---------------------------------------------------------------------------\u001b[39m",
      "\u001b[31mTypeError\u001b[39m                                 Traceback (most recent call last)",
      "\u001b[36mCell\u001b[39m\u001b[36m \u001b[39m\u001b[32mIn[11]\u001b[39m\u001b[32m, line 22\u001b[39m\n\u001b[32m     19\u001b[39m \u001b[38;5;129m@add_logg\u001b[39m\n\u001b[32m     20\u001b[39m \u001b[38;5;28;01mdef\u001b[39;00m\u001b[38;5;250m \u001b[39m\u001b[34mcalc\u001b[39m(x):\n\u001b[32m     21\u001b[39m     \u001b[38;5;28mprint\u001b[39m(x * \u001b[32m2\u001b[39m)\n\u001b[32m---> \u001b[39m\u001b[32m22\u001b[39m \u001b[43mcalc\u001b[49m\u001b[43m(\u001b[49m\u001b[32;43m3\u001b[39;49m\u001b[43m)\u001b[49m\n",
      "\u001b[31mTypeError\u001b[39m: add_logg.<locals>.wrapper() takes 0 positional arguments but 1 was given"
     ]
    }
   ],
   "source": [
    "def add_logg(func):\n",
    "\n",
    "    def wrapper():\n",
    "        print(f'function {func.__name__} started') #__имя__ говорит о том какая функция\n",
    "        func()\n",
    "        print(f'function {func.__name__} finished')\n",
    "    return wrapper\n",
    "\n",
    "@add_logg\n",
    "def sim1():\n",
    "    print('simple1')\n",
    "sim1()\n",
    "\n",
    "@add_logg\n",
    "def sim2():\n",
    "    print('simple2')\n",
    "sim2()    \n",
    "\n",
    "@add_logg\n",
    "def calc(x):\n",
    "    print(x * 2)\n",
    "calc(3)"
   ]
  },
  {
   "cell_type": "code",
   "execution_count": null,
   "id": "495139ba",
   "metadata": {},
   "outputs": [
    {
     "name": "stdout",
     "output_type": "stream",
     "text": [
      "function calc started\n",
      "6\n",
      "function calc finished\n",
      "function calc2 started\n",
      "9\n",
      "function calc2 finished\n"
     ]
    }
   ],
   "source": [
    "def add_logg(func):\n",
    "\n",
    "    def wrapper(*x): # любое количество аргументов с помощью *\n",
    "        print(f'function {func.__name__} started') #__имя__ говорит о том какая функция\n",
    "        func(*x)\n",
    "        print(f'function {func.__name__} finished')\n",
    "    return wrapper\n",
    "\n",
    "@add_logg\n",
    "def calc(x):\n",
    "    print(x * 2)\n",
    "\n",
    "calc(3)\n",
    "\n",
    "@add_logg\n",
    "def calc2(x, y):\n",
    "    print(x * y)\n",
    "\n",
    "calc2(3,3)"
   ]
  },
  {
   "cell_type": "markdown",
   "id": "faf0e262",
   "metadata": {},
   "source": [
    "## List comprehension\n",
    "или генератор списков (в обывательском)"
   ]
  },
  {
   "cell_type": "code",
   "execution_count": null,
   "id": "2983a05a",
   "metadata": {},
   "outputs": [
    {
     "name": "stdout",
     "output_type": "stream",
     "text": [
      "[2, 4, 6, 8, 10, 12, 14, 16, 18, 0]\n",
      "[3, 6, 9, 12, 15, 18, 21, 24, 27, 0]\n",
      "[11, 12, 13, 14, 15, 16, 17, 18, 19, 10]\n"
     ]
    }
   ],
   "source": [
    "my_list = [1, 2, 3, 4, 5, 6, 7, 8, 9, 0]\n",
    "\n",
    "new_list = []\n",
    "for x in my_list:\n",
    "    new_list.append(x * 2)\n",
    "print(new_list)\n",
    "\n",
    "new_list2 = [x * 3 for x in my_list]\n",
    "print(new_list2)\n",
    "\n",
    "new_list3 = map(lambda x: x + 10, my_list) # такой способ лучше других приветствуется\n",
    "print(list(new_list3))\n"
   ]
  },
  {
   "cell_type": "code",
   "execution_count": 20,
   "id": "69e88eb8",
   "metadata": {},
   "outputs": [
    {
     "name": "stdout",
     "output_type": "stream",
     "text": [
      "Четные числа - [2, 4, 6, 8, 0]\n"
     ]
    }
   ],
   "source": [
    "my_list = [1, 2, 3, 4, 5, 6, 7, 8, 9, 0]\n",
    "\n",
    "new_list = [x for x in my_list if x % 2 == 0]\n",
    "print(f'Четные числа - {new_list}')"
   ]
  },
  {
   "cell_type": "code",
   "execution_count": 23,
   "id": "d7dd9edb",
   "metadata": {},
   "outputs": [
    {
     "name": "stdout",
     "output_type": "stream",
     "text": [
      "{'usa': 22, 'rus': 14, 'jap': 20}\n"
     ]
    }
   ],
   "source": [
    "countries = ['usa', 'rus', 'jap']\n",
    "temps = [22, 14, 20]\n",
    "\n",
    "country_temps_dict = dict(zip(countries, temps))\n",
    "print(country_temps_dict)"
   ]
  }
 ],
 "metadata": {
  "kernelspec": {
   "display_name": "Python 3",
   "language": "python",
   "name": "python3"
  },
  "language_info": {
   "codemirror_mode": {
    "name": "ipython",
    "version": 3
   },
   "file_extension": ".py",
   "mimetype": "text/x-python",
   "name": "python",
   "nbconvert_exporter": "python",
   "pygments_lexer": "ipython3",
   "version": "3.13.3"
  }
 },
 "nbformat": 4,
 "nbformat_minor": 5
}
