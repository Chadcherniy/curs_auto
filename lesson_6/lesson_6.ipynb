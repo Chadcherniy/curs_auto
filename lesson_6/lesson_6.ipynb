{
 "cells": [
  {
   "cell_type": "markdown",
   "id": "363e5a65",
   "metadata": {},
   "source": [
    "# Conditions and loops\n",
    "## условия и циклы"
   ]
  },
  {
   "cell_type": "markdown",
   "id": "b465642c",
   "metadata": {},
   "source": [
    "if\n",
    "elif\n",
    "else"
   ]
  },
  {
   "cell_type": "code",
   "execution_count": null,
   "id": "0eba46b6",
   "metadata": {},
   "outputs": [
    {
     "name": "stdout",
     "output_type": "stream",
     "text": [
      "Дядя, введи число!\n",
      "Дядя, введи число!\n",
      "Дядя, введи число!\n",
      "Too much\n"
     ]
    }
   ],
   "source": [
    "while True:\n",
    "\n",
    "    user_input = input('your number: ')\n",
    "\n",
    "    if user_input.isdigit():\n",
    "\n",
    "        user_input = int(user_input)\n",
    "        if user_input == 1:\n",
    "            print('One')\n",
    "            break\n",
    "        elif user_input == 2:\n",
    "            print('Two')\n",
    "            break\n",
    "        else:\n",
    "            print('Too much')\n",
    "            break\n",
    "    else:\n",
    "        print('Дядя, введи целое число!')\n",
    "      "
   ]
  },
  {
   "cell_type": "markdown",
   "id": "3147b09c",
   "metadata": {},
   "source": [
    "## FOR loop "
   ]
  },
  {
   "cell_type": "code",
   "execution_count": null,
   "id": "89ac8df2",
   "metadata": {},
   "outputs": [
    {
     "name": "stdout",
     "output_type": "stream",
     "text": [
      "looggf\n",
      "gitrd\n",
      "bib\n",
      "rpo\n",
      "lpfd\n",
      "ffr\n"
     ]
    }
   ],
   "source": [
    "names = ['looggf', 'gitrd', 'bib', 'rpo', 'lpfd', 'ffr'] \n",
    "\n",
    "for name in names:\n",
    "    print(name)\n",
    "print('End')\n"
   ]
  },
  {
   "cell_type": "code",
   "execution_count": 8,
   "id": "5be8642f",
   "metadata": {},
   "outputs": [
    {
     "name": "stdout",
     "output_type": "stream",
     "text": [
      "Hello Mr. looggf\n",
      "You're not Mr.\n",
      "You're not Mr.\n",
      "You're not Mr.\n",
      "Hello Mr. lpfd\n",
      "You're not Mr.\n"
     ]
    }
   ],
   "source": [
    "names = ['looggf', 'gitrd', 'bib', 'rpo', 'lpfd', 'ffr'] \n",
    "\n",
    "for name in names:\n",
    "    if name.startswith('l'):\n",
    "        print(f'Hello Mr. {name}')\n",
    "    else:\n",
    "        print(\"You're not Mr.\")\n"
   ]
  },
  {
   "cell_type": "code",
   "execution_count": 12,
   "id": "f4942d5e",
   "metadata": {},
   "outputs": [
    {
     "name": "stdout",
     "output_type": "stream",
     "text": [
      "dict_keys(['John', 'Fil', 'Mat', 'Bob'])\n",
      "John\n",
      "Fil\n",
      "Mat\n",
      "Bob\n"
     ]
    }
   ],
   "source": [
    "persons = {'John': 12, 'Fil': 141, 'Mat': 357, 'Bob': 655} # Печатает ключи\n",
    "\n",
    "print(persons.keys()) #sposob 1\n",
    "\n",
    "for person in persons: #sposob 2\n",
    "    print(person)"
   ]
  },
  {
   "cell_type": "code",
   "execution_count": null,
   "id": "e4233f78",
   "metadata": {},
   "outputs": [
    {
     "name": "stdout",
     "output_type": "stream",
     "text": [
      "dict_values([12, 141, 357, 655])\n",
      "12\n",
      "141\n",
      "357\n",
      "655\n"
     ]
    }
   ],
   "source": [
    "persons = {'John': 12, 'Fil': 141, 'Mat': 357, 'Bob': 655} # Печатает значения\n",
    "\n",
    "print(persons.values()) # sposob 1\n",
    "\n",
    "for person in persons.values(): #sposob 2\n",
    "    print(person)\n",
    "\n",
    "#ЕЩЕ СПОСОБ\n",
    "persons = {'John': 12, 'Fil': 141, 'Mat': 357, 'Bob': 655} # Печатает ключи\n",
    "\n",
    "for person in persons:\n",
    "    print(persons[person])"
   ]
  },
  {
   "cell_type": "code",
   "execution_count": null,
   "id": "d807e1fc",
   "metadata": {},
   "outputs": [
    {
     "name": "stdout",
     "output_type": "stream",
     "text": [
      " John: 12\n",
      " Fil: 141\n",
      " Mat: 357\n",
      " Bob: 655\n"
     ]
    }
   ],
   "source": [
    "#Способ 1\n",
    "persons = {'John': 12, 'Fil': 141, 'Mat': 357, 'Bob': 655} # Печатаем ключи и значения\n",
    "\n",
    "for person in persons:\n",
    "    print(f' {person}: {persons[person]}')"
   ]
  },
  {
   "cell_type": "code",
   "execution_count": 2,
   "id": "eae0e1fd",
   "metadata": {},
   "outputs": [
    {
     "name": "stdout",
     "output_type": "stream",
     "text": [
      "dict_items([('John', 12), ('Fil', 141), ('Mat', 357), ('Bob', 655)])\n",
      "John: 12\n",
      "Fil: 141\n",
      "Mat: 357\n",
      "Bob: 655\n"
     ]
    }
   ],
   "source": [
    "#Способ 2\n",
    "\n",
    "persons = {'John': 12, 'Fil': 141, 'Mat': 357, 'Bob': 655} # Печатаем ключи и значения\n",
    "\n",
    "print(persons.items())\n",
    "\n",
    "for name, height in persons.items():\n",
    "    # name, height = person - вместо такого, просто вставляем сразу в for\n",
    "    print(f'{name}: {height}')"
   ]
  },
  {
   "cell_type": "markdown",
   "id": "04e767b5",
   "metadata": {},
   "source": [
    "Распечатать все слова, в которых есть буква \"о\" и выбросить из текста, текст в конце распечатать."
   ]
  },
  {
   "cell_type": "code",
   "execution_count": null,
   "id": "d1338624",
   "metadata": {},
   "outputs": [
    {
     "name": "stdout",
     "output_type": "stream",
     "text": [
      "['English', 'texts', 'for', 'beginners', 'to', 'practice', 'reading', 'and', 'comprehension', 'online', 'and', 'for', 'free.']\n",
      "for\n",
      "to\n",
      "comprehension\n",
      "online\n",
      "for\n",
      "English texts beginners practice reading and and free.\n"
     ]
    }
   ],
   "source": [
    "text = \"English texts for beginners to practice reading and comprehension online and for free.\"\n",
    "\n",
    "words = text.split()\n",
    "print(words)\n",
    "\n",
    "fin_words = []\n",
    "for word in words:\n",
    "    if 'o' in word:  # если есть слово с \"о\", то мы его печатаем\n",
    "        print(word)\n",
    "    else:\n",
    "        fin_words.append(word) # если нет, то исключаем слова с \"о\" и печатаем единым текстом.\n",
    "print(' '.join(fin_words))            \n",
    "\n"
   ]
  }
 ],
 "metadata": {
  "kernelspec": {
   "display_name": "Python 3",
   "language": "python",
   "name": "python3"
  },
  "language_info": {
   "codemirror_mode": {
    "name": "ipython",
    "version": 3
   },
   "file_extension": ".py",
   "mimetype": "text/x-python",
   "name": "python",
   "nbconvert_exporter": "python",
   "pygments_lexer": "ipython3",
   "version": "3.9.13"
  }
 },
 "nbformat": 4,
 "nbformat_minor": 5
}
